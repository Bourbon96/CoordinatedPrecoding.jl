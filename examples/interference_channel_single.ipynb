{
 "metadata": {
  "language": "Julia",
  "name": "",
  "signature": "sha256:fbf821d28741bad55ef24b391ccdbdbd37db8e2bdd59be7c3c75ab1efc97df8f"
 },
 "nbformat": 3,
 "nbformat_minor": 0,
 "worksheets": [
  {
   "cells": [
    {
     "cell_type": "heading",
     "level": 1,
     "metadata": {},
     "source": [
      "Functions"
     ]
    },
    {
     "cell_type": "code",
     "collapsed": false,
     "input": [
      "using CoordinatedPrecoding\n",
      "using PyCall; @pyimport matplotlib.pyplot as plt\n",
      "\n",
      "##########################################################################\n",
      "# Simulation and visualization functions\n",
      "function simulate_single(simulation_params, precoding_settings)\n",
      "    network = setup_interference_channel(simulation_params[\"K\"],\n",
      "        simulation_params[\"N\"], simulation_params[\"M\"],\n",
      "        transmit_power=10^(simulation_params[\"P_dB\"]/10),\n",
      "        receiver_noise_power=10^(simulation_params[\"sigma2_dB\"]/10),\n",
      "        no_streams=simulation_params[\"d\"])\n",
      "\n",
      "    cell_assignment = assign_cells_by_id(network)\n",
      "\n",
      "    channel = draw_channel(network)\n",
      "\n",
      "    user_rates1 = Shi2011_WMMSE(channel, network, cell_assignment, precoding_settings)\n",
      "    user_rates2 = Gomadam2008_MaxSINR(channel, network, cell_assignment, precoding_settings)\n",
      "    user_rates3 = Komulainen2013_WMMSE(channel, network, cell_assignment, precoding_settings)\n",
      "\n",
      "    [ \"Shi2011_WMMSE\" => [ \"user_rates\" => user_rates1 ], \n",
      "      \"Gomadam2008_MaxSINR\" => [ \"user_rates\" => user_rates2 ],\n",
      "      \"Komulainen2013_WMMSE\" => [ \"user_rates\" => user_rates3 ] ]\n",
      "end\n",
      "\n",
      "function plot_single(results, simulation_params, precoding_settings)\n",
      "    # Per-stream rate\n",
      "    fig = plt.figure(figsize=(12,4*simulation_params[\"K\"]))\n",
      "    subplot_ind = 1\n",
      "\n",
      "    for k = 1:simulation_params[\"K\"]\n",
      "        for n = 1:simulation_params[\"d\"]\n",
      "            ax = fig[:add_subplot](simulation_params[\"K\"], simulation_params[\"d\"], subplot_ind); subplot_ind += 1\n",
      "\n",
      "            ax[:plot](squeeze(results[\"Shi2011_WMMSE\"][\"user_rates\"][k,n,:], [1,2]), \"b-\")\n",
      "            ax[:plot](squeeze(results[\"Gomadam2008_MaxSINR\"][\"user_rates\"][k,n,:], [1,2]), \"r-\")\n",
      "            ax[:plot](squeeze(results[\"Komulainen2013_WMMSE\"][\"user_rates\"][k,n,:], [1,2]), \"b-.\")\n",
      "\n",
      "            if n == 1\n",
      "                ax[:set_ylabel](\"User $k\")\n",
      "            end\n",
      "            if k == 1\n",
      "                ax[:set_title](\"Stream $n\")\n",
      "            end\n",
      "            if k == simulation_params[\"K\"]\n",
      "                ax[:set_xlabel](\"Time evolution\")\n",
      "            end\n",
      "        end\n",
      "    end\n",
      "    fig[:savefig](\"interference_channel_single_perstream.png\", dpi=125)\n",
      "\n",
      "    # Per-user sum rate\n",
      "    fig = plt.figure(figsize=(12,4*simulation_params[\"K\"]))\n",
      "    subplot_ind = 1\n",
      "\n",
      "    for k = 1:simulation_params[\"K\"]\n",
      "        ax = fig[:add_subplot](simulation_params[\"K\"], 1, subplot_ind); subplot_ind += 1\n",
      "\n",
      "        ax[:plot](squeeze(sum(results[\"Shi2011_WMMSE\"][\"user_rates\"][k,:,:], 2), [1,2]), \"b-\")\n",
      "        ax[:plot](squeeze(sum(results[\"Gomadam2008_MaxSINR\"][\"user_rates\"][k,:,:], 2), [1,2]), \"r-\")\n",
      "        ax[:plot](squeeze(sum(results[\"Komulainen2013_WMMSE\"][\"user_rates\"][k,:,:], 2), [1,2]), \"b-.\")\n",
      "\n",
      "        ax[:set_ylabel](\"User $k\")\n",
      "\n",
      "        if k == simulation_params[\"K\"]\n",
      "            ax[:set_xlabel](\"Time evolution\")\n",
      "        end\n",
      "    end\n",
      "    fig[:savefig](\"interference_channel_single_peruser.png\", dpi=125)\n",
      "\n",
      "    # System sum rate\n",
      "    fig = plt.figure(figsize=(12,6))\n",
      "    ax = fig[:add_subplot](1, 1, 1)\n",
      "\n",
      "    ax[:plot](squeeze(sum(results[\"Shi2011_WMMSE\"][\"user_rates\"], [1,2]), [1,2]), \"b-\", label=\"Shi2011_WMMSE\")\n",
      "    ax[:plot](squeeze(sum(results[\"Gomadam2008_MaxSINR\"][\"user_rates\"], [1,2]), [1,2]), \"r-\", label=\"Gomadam2008_MaxSINR\")\n",
      "    ax[:plot](squeeze(sum(results[\"Komulainen2013_WMMSE\"][\"user_rates\"], [1,2]), [1,2]), \"b-.\", label=\"Komulainen2013_WMMSE\")\n",
      "\n",
      "    ax[:set_xlabel](\"Time evolution\"); ax[:set_ylabel](\"Sum rate [bits/s/Hz]\")\n",
      "    ax[:legend](loc=\"best\")\n",
      "\n",
      "    display(fig)\n",
      "end;"
     ],
     "language": "python",
     "metadata": {},
     "outputs": []
    },
    {
     "cell_type": "heading",
     "level": 1,
     "metadata": {},
     "source": [
      "Simulation settings"
     ]
    },
    {
     "cell_type": "code",
     "collapsed": false,
     "input": [
      "srand(int(time()))\n",
      "\n",
      "simulation_params = {\n",
      "    \"K\" => 3, \"N\" => 3, \"M\" => 3,\n",
      "    \"P_dB\" => 20, \"sigma2_dB\" => 0, \"d\" => 2\n",
      "}\n",
      "precoding_settings = {\n",
      "    \"stop_crit\" => 50,\n",
      "    \"initial_precoders\" => \"dft\"\n",
      "};"
     ],
     "language": "python",
     "metadata": {},
     "outputs": []
    },
    {
     "cell_type": "heading",
     "level": 1,
     "metadata": {},
     "source": [
      "Run and plot"
     ]
    },
    {
     "cell_type": "code",
     "collapsed": false,
     "input": [
      "results = simulate_single(simulation_params, precoding_settings)\n",
      "plot_single(results, simulation_params, precoding_settings);"
     ],
     "language": "python",
     "metadata": {},
     "outputs": []
    },
    {
     "cell_type": "code",
     "collapsed": false,
     "input": [],
     "language": "python",
     "metadata": {},
     "outputs": []
    }
   ],
   "metadata": {}
  }
 ]
}